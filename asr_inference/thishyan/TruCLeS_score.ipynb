{
 "cells": [
  {
   "cell_type": "code",
   "execution_count": 22,
   "id": "ba4e2754-cfc4-4654-b61e-b18075730f23",
   "metadata": {},
   "outputs": [],
   "source": [
    "from espnet2.tasks.asr_TruCLeS import ASRTask\n",
    "from pathlib import Path\n",
    "import yaml\n",
    "import argparse\n",
    "import torch\n",
    "import torchaudio\n",
    "import os\n",
    "\n",
    "import jiwer\n",
    "from espnet2.text.build_tokenizer import build_tokenizer\n",
    "from espnet2.text.token_id_converter import TokenIDConverter"
   ]
  },
  {
   "cell_type": "code",
   "execution_count": 2,
   "id": "ae94ed32-1d4a-4a95-9679-a5d939503d91",
   "metadata": {},
   "outputs": [],
   "source": [
    "test_dataset = torchaudio.datasets.LIBRISPEECH(\"/home/pb_deployment/Downloads\", url=\"test-clean\", download=True)"
   ]
  },
  {
   "cell_type": "code",
   "execution_count": 3,
   "id": "2afb6b85-2926-4451-9630-fbeadb6c752e",
   "metadata": {},
   "outputs": [],
   "source": [
    "model_root_dir = \"/home/pb_deployment/espnet/asr_inference/model_files/e_branchformer_librispeech/\"\n",
    "asr_config_path = os.path.join(model_root_dir, \"exp/asr_train_asr_e_branchformer_raw_en_bpe5000_sp/config.yaml\")\n",
    "model_path = os.path.join(model_root_dir, \"exp/asr_train_asr_e_branchformer_raw_en_bpe5000_sp/valid.acc.ave_10best.pth\")\n",
    "bpe_model_path = os.path.join(model_root_dir,\"data/en_token_list/bpe_unigram5000/bpe.model\")"
   ]
  },
  {
   "cell_type": "markdown",
   "id": "352eef31-02a6-457b-b1f7-9d2bf73890de",
   "metadata": {},
   "source": [
    "# Tokenizer definition"
   ]
  },
  {
   "cell_type": "code",
   "execution_count": 4,
   "id": "fdb4bce9-cefa-46bc-bddf-3d300218bd2c",
   "metadata": {},
   "outputs": [],
   "source": [
    "class TruCLeS_Tokenizer:\n",
    "    def __init__(self, asr_config_path, bpe_model_path):\n",
    "        self.asr_config_path = asr_config_path\n",
    "        self.bpe_model_path = bpe_model_path\n",
    "        self.tokenizer = build_tokenizer(\n",
    "            token_type='bpe',\n",
    "            bpemodel=bpe_model_path  \n",
    "        )\n",
    "        with open(self.asr_config_path, 'r') as file:\n",
    "            config_data = yaml.safe_load(file)\n",
    "        self.tokens_list = config_data.get('token_list', [])\n",
    "        self.tokenIDConvertor = TokenIDConverter(token_list = self.tokens_list)\n",
    "\n",
    "        self.ids = dict(zip(self.tokens_list, [i for i in range(len(self.tokens_list))]))\n",
    "\n",
    "    def text2ids(self, text):\n",
    "        tokenized = self.tokenizer.text2tokens(text)\n",
    "        ids = self.tokenIDConvertor.tokens2ids(tokenized)\n",
    "        return ids\n",
    "    \n",
    "    def ids2text(self, ids):\n",
    "        tokenized = self.tokenIDConvertor.ids2tokens(ids)\n",
    "        text = self.tokenizer.tokens2text(tokenized)\n",
    "        return text\n",
    "\n",
    "    def text2tokens(self, text):\n",
    "        return self.tokenizer.text2tokens(text)\n",
    "        \n",
    "    def tokens2text(self, tokens):\n",
    "        return self.tokenizer.tokens2text(tokens)\n",
    "\n",
    "    def tokens2ids(self, tokens):\n",
    "        return self.tokenIDConvertor.tokens2ids(tokens)\n",
    "\n",
    "    def ids2tokens(self, ids):\n",
    "        return self.tokenIDConvertor.ids2tokens(ids)"
   ]
  },
  {
   "cell_type": "markdown",
   "id": "653e5d6c-bab5-412b-bf68-3a6c8ecfc904",
   "metadata": {},
   "source": [
    "# Loading ASR model for inference"
   ]
  },
  {
   "cell_type": "code",
   "execution_count": 5,
   "id": "56665749-4a50-4e7c-b98c-61a0dc2c15d1",
   "metadata": {},
   "outputs": [],
   "source": [
    "def buildAndLoadASRModel(asr_config, asr_model, device=\"cpu\"):\n",
    "    config_file = Path(asr_config)\n",
    "    with config_file.open(\"r\", encoding=\"utf-8\") as f:\n",
    "        args = yaml.safe_load(f)\n",
    "    \n",
    "    args = argparse.Namespace(**args)\n",
    "    model = ASRTask.build_model(args)\n",
    "    \n",
    "    state_dict = torch.load(asr_model, map_location=device)\n",
    "    \n",
    "    \n",
    "    model.to(device)\n",
    "    use_lora = getattr(args, \"use_lora\", False)\n",
    "    model.load_state_dict(state_dict, strict=not use_lora)\n",
    "    if any([\"frontend.upstream.model\" in k for k in state_dict.keys()]):\n",
    "        if any(\n",
    "            [\n",
    "                \"frontend.upstream.upstream.model\" in k\n",
    "                for k in dict(model.named_parameters())\n",
    "                            ]\n",
    "        ):\n",
    "            state_dict = {\n",
    "                k.replace(\n",
    "                    \"frontend.upstream.model\",\n",
    "                    \"frontend.upstream.upstream.model\",\n",
    "                ): v\n",
    "                for k, v in state_dict.items()\n",
    "            }\n",
    "            model.load_state_dict(state_dict, strict=not use_lora)\n",
    "    return model"
   ]
  },
  {
   "cell_type": "code",
   "execution_count": 6,
   "id": "8209e084-0331-4bdc-8367-8b532621e9a2",
   "metadata": {},
   "outputs": [],
   "source": [
    "ASRModel = buildAndLoadASRModel(asr_config_path, model_path, device=\"cuda\")\n",
    "tokenizer = TruCLeS_Tokenizer(asr_config_path, bpe_model_path)"
   ]
  },
  {
   "cell_type": "code",
   "execution_count": 15,
   "id": "98939132-0b3d-4a3a-b3a3-0389b39dcef4",
   "metadata": {},
   "outputs": [
    {
     "name": "stdout",
     "output_type": "stream",
     "text": [
      "tensor([[  10, 2668,   53,   60,   26,  996,  242,   20, 1002,  409,  251,   22,\n",
      "            3,    4,  434,  389, 2117, 4840,    4, 1839,   27,  292, 1852,    6,\n",
      "           26,  370,  721,   30,   65,    8, 1049, 1849, 2005,  833,   13, 3753]])\n",
      "torch.Size([1, 166960]) tensor([166960]) tensor([[  10, 2668,   53,   60,   26,  996,  242,   20, 1002,  409,  251,   22,\n",
      "            3,    4,  434,  389, 2117, 4840,    4, 1839,   27,  292, 1852,    6,\n",
      "           26,  370,  721,   30,   65,    8, 1049, 1849, 2005,  833,   13, 3753]]) tensor([36])\n"
     ]
    }
   ],
   "source": [
    "speech = test_dataset[0][0]\n",
    "speech_length = speech.new_full([1], dtype=torch.long, fill_value=speech.size(1))\n",
    "\n",
    "#text = test_dataset[0][2]\n",
    "\n",
    "text = \"HE HOPED THERE WOULD BE STEW FOR DINNER CARROTS AND BRUISED POTATOES AND FAT BUTTON PIECES TO BE LABLED OUT IN THICK FLOWER FLATTENED SAUCE\"\n",
    "print(text)\n",
    "text = torch.tensor(tokenizer.text2ids(text)).unsqueeze(0)\n",
    "text_length = torch.tensor([text.shape[-1]])\n",
    "\n",
    "print(speech.shape, speech_length, text, text_length)"
   ]
  },
  {
   "cell_type": "markdown",
   "id": "db307bc4-8bf6-43f5-9e3f-c816af09b438",
   "metadata": {},
   "source": [
    "```\n",
    "\n",
    "\n",
    "encoder_out, encoder_out_lens = ASRModel.encode(speech: torch.Tensor, speech_lengths: torch.Tensor)\n",
    "\n",
    "ys_hat, decoder_out, softmax_out = ASRModel.decode_TruCLeS(\n",
    "                                        encoder_out: torch.Tensor,\n",
    "                                        encoder_out_lens: torch.Tensor,\n",
    "                                        text: torch.Tensor,\n",
    "                                        text_lengths: torch.Tensor,\n",
    "                                    )\n",
    "```    "
   ]
  },
  {
   "cell_type": "code",
   "execution_count": 16,
   "id": "02b5511f-1832-4b04-9f95-99b01d28c23c",
   "metadata": {},
   "outputs": [],
   "source": [
    "DEVICE = \"cuda\"\n",
    "ASRModel.eval()\n",
    "encoder_out, encoder_out_lens = ASRModel.encode(speech.to(DEVICE), speech_length.to(DEVICE))"
   ]
  },
  {
   "cell_type": "code",
   "execution_count": 17,
   "id": "77939f92-5dd4-4507-b148-a831eae13c8b",
   "metadata": {},
   "outputs": [],
   "source": [
    "hyps, hyp_lens, decoder_outs= ASRModel.decode_TruCLeS(encoder_out, encoder_out_lens, text.to(DEVICE), text_length.to(DEVICE))"
   ]
  },
  {
   "cell_type": "code",
   "execution_count": 18,
   "id": "a1a6bb75-4ebf-4aed-b965-2f60a63a8725",
   "metadata": {},
   "outputs": [
    {
     "name": "stdout",
     "output_type": "stream",
     "text": [
      "tensor([[  10, 2668,   53,   60,   26,  996,  242,   20, 1002,  552,  251,   22,\n",
      "            3,    4,  409,  389, 2117, 4840,    4, 1839,  354,  292, 1852,    6,\n",
      "           26, 1218,  341,   30,   65,    8, 1049, 3779, 1839,  833,   13, 3753,\n",
      "         4999]], device='cuda:0')\n",
      "tensor([36], device='cuda:0')\n"
     ]
    }
   ],
   "source": [
    "print(hyps)\n",
    "print(hyp_lens)"
   ]
  },
  {
   "cell_type": "code",
   "execution_count": 45,
   "id": "e73688b8-5fcc-4e7b-8660-2e5cd86ea345",
   "metadata": {},
   "outputs": [
    {
     "name": "stdout",
     "output_type": "stream",
     "text": [
      "HE HOPED THERE WOULD BE STEW FOR DINNER TURNIPS AND CARROTS POTATOES AND FAT CHICKEN MUTTON PIECES TO BE LADLED OUT IN THICK PAPERED FLOUR FATTENED SAUCE GRAVY\n",
      "tensor([36], device='cuda:0')\n"
     ]
    }
   ],
   "source": [
    "hyp = tokenizer.ids2text(hyps[0][:hyp_lens[0]])\n",
    "ref = test_dataset[0][2]\n",
    "hyp = \"HE HOPED THERE WOULD BE STEW FOR DINNER TURNIPS AND CARROTS POTATOES AND FAT CHICKEN MUTTON PIECES TO BE LADLED OUT IN THICK PAPERED FLOUR FATTENED SAUCE GRAVY\"\n",
    "print(hyp)\n",
    "print(hyp_lens)\n"
   ]
  },
  {
   "cell_type": "code",
   "execution_count": 46,
   "id": "f73bcbbf-b8f8-4484-9c33-fca224559a34",
   "metadata": {},
   "outputs": [
    {
     "name": "stdout",
     "output_type": "stream",
     "text": [
      "sentence 1\n",
      "REF: HE HOPED THERE WOULD BE STEW FOR DINNER TURNIPS AND CARROTS AND BRUISED POTATOES AND FAT ******* MUTTON PIECES TO BE LADLED OUT IN THICK PEPPERED FLOUR FATTENED SAUCE *****\n",
      "HYP: HE HOPED THERE WOULD BE STEW FOR DINNER TURNIPS AND CARROTS *** ******* POTATOES AND FAT CHICKEN MUTTON PIECES TO BE LADLED OUT IN THICK  PAPERED FLOUR FATTENED SAUCE GRAVY\n",
      "                                                                   D       D                        I                                                S                          I\n",
      "\n",
      "['▁HE', '▁HOPED', '▁THERE', '▁WOULD', '▁BE', '▁STE', 'W', '▁FOR', '▁DINNER', '▁TURN', 'IP', 'S', '▁AND', '▁CAR', 'RO', 'T', 'S', '▁AND', '▁B', 'RU', 'ISED', '▁POTATOES', '▁AND', '▁FAT', '▁M', 'UT', 'TON', '▁PIECES', '▁TO', '▁BE', '▁LAD', 'LED', '▁OUT', '▁IN', '▁THICK', '▁PEPPER', 'ED', '▁FLOUR', '▁FAT', 'TEN', 'ED', '▁SAUCE']\n",
      "['▁HE', '▁HOPED', '▁THERE', '▁WOULD', '▁BE', '▁STE', 'W', '▁FOR', '▁DINNER', '▁TURN', 'IP', 'S', '▁AND', '▁CAR', 'RO', 'T', 'S', '▁POTATOES', '▁AND', '▁FAT', '▁CHICKEN', '▁M', 'UT', 'TON', '▁PIECES', '▁TO', '▁BE', '▁LAD', 'LED', '▁OUT', '▁IN', '▁THICK', '▁PAPER', 'ED', '▁FLOUR', '▁FAT', 'TEN', 'ED', '▁SAUCE', '▁GRA', 'V', 'Y']\n"
     ]
    }
   ],
   "source": [
    "print(jiwer.visualize_alignment(jiwer.process_words(ref, hyp), show_measures=False, skip_correct=False))\n",
    "print(tokenizer.text2tokens(ref))\n",
    "print(tokenizer.text2tokens(hyp))"
   ]
  },
  {
   "cell_type": "code",
   "execution_count": 47,
   "id": "78798273-4841-4aa0-8d2b-1dd9fa8081ca",
   "metadata": {},
   "outputs": [],
   "source": [
    "def getAlignedHyp(ref, hyp, tokenizer=tokenizer):\n",
    "    wOut = jiwer.process_words(ref, hyp)\n",
    "    wRefList = wOut.references[0]\n",
    "    wHypList = wOut.hypotheses[0]\n",
    "    wAligns = wOut.alignments[0]\n",
    "    tokenizedWRefList = tokenizer.text2tokens(wRefList)\n",
    "    tokenizedWHypList = tokenizer.text2tokens(wHypList)\n",
    "    \n",
    "    align_list = []\n",
    "    for wAlign in wAligns:\n",
    "        if wAlign.type == \"equal\":\n",
    "            align_list = align_list + tokenizedWHypList[wAlign.hyp_start_idx:wAlign.hyp_end_idx]\n",
    "        elif wAlign.type == \"insert\":\n",
    "            align_list.append([])\n",
    "        elif wAlign.type == \"substitute\":\n",
    "            hypWords = tokenizedWHypList[wAlign.hyp_start_idx:wAlign.hyp_end_idx]\n",
    "            refWords = tokenizedWRefList[wAlign.ref_start_idx:wAlign.ref_end_idx]\n",
    "            word_list = []\n",
    "            for hypWord, refWord in zip(hypWords, refWords):\n",
    "                tOut = jiwer.process_words(\" \".join(refWord), \" \".join(hypWord))\n",
    "                tRefList = tOut.references[0]\n",
    "                tHypList = tOut.hypotheses[0]\n",
    "                tAligns = tOut.alignments[0]\n",
    "                for tAlign in tAligns:\n",
    "                    if tAlign.type == \"equal\":\n",
    "                        word_list = word_list + tHypList[tAlign.hyp_start_idx:tAlign.hyp_end_idx]\n",
    "                    elif tAlign.type == \"substitute\":\n",
    "                        word_list = word_list + tRefList[tAlign.ref_start_idx:tAlign.ref_end_idx]\n",
    "                    elif tAlign.type == \"insert\":\n",
    "                        word_list.append(\"\")\n",
    "            align_list = align_list + [word_list]\n",
    "    return align_list"
   ]
  },
  {
   "cell_type": "code",
   "execution_count": 48,
   "id": "57fc0081-13bb-49d7-8c15-191554ec59ec",
   "metadata": {},
   "outputs": [
    {
     "name": "stdout",
     "output_type": "stream",
     "text": [
      "[['▁HE'], ['▁HOPED'], ['▁THERE'], ['▁WOULD'], ['▁BE'], ['▁STE', 'W'], ['▁FOR'], ['▁DINNER'], ['▁TURN', 'IP', 'S'], ['▁AND'], ['▁CAR', 'RO', 'T', 'S'], ['▁POTATOES'], ['▁AND'], ['▁FAT'], [], ['▁M', 'UT', 'TON'], ['▁PIECES'], ['▁TO'], ['▁BE'], ['▁LAD', 'LED'], ['▁OUT'], ['▁IN'], ['▁THICK'], ['▁PEPPER', 'ED'], ['▁FLOUR'], ['▁FAT', 'TEN', 'ED'], ['▁SAUCE'], []]\n"
     ]
    }
   ],
   "source": [
    "align_list = getAlignedHyp(ref, hyp)\n",
    "print(align_list)"
   ]
  },
  {
   "cell_type": "code",
   "execution_count": 38,
   "id": "96f31b60-b8af-4dca-ab86-2029c527f66c",
   "metadata": {},
   "outputs": [
    {
     "name": "stdout",
     "output_type": "stream",
     "text": [
      "0 ▁HE 1\n",
      "1 ▁HOPED 1\n",
      "2 ▁THERE 1\n",
      "3 ▁WOULD 1\n",
      "4 ▁BE 1\n",
      "5 ▁STE 1\n",
      "6 W 1\n",
      "7 ▁FOR 1\n",
      "8 ▁DINNER 1\n",
      "9 ▁TURN 1\n",
      "10 no_tok 0\n",
      "11 IP 1\n",
      "12 S 1\n",
      "13 ▁AND 1\n",
      "14 ▁CAR 1\n",
      "15 RO 1\n",
      "16 T 1\n",
      "17 ▁POTATOES 1\n",
      "18 ▁AND 1\n",
      "19 ▁FAT 1\n",
      "20 ▁M 1\n",
      "21 TON 1\n",
      "22 ▁PIECES 1\n",
      "23 ▁TO 1\n",
      "24 ▁BE 1\n",
      "25 ▁LAD 1\n",
      "26 LED 1\n",
      "27 no_tok 0\n",
      "28 ▁OUT 1\n",
      "29 ▁IN 1\n",
      "30 ▁THICK 1\n",
      "31 ▁PEPPER 1\n",
      "32 ▁FAT 1\n",
      "33 TEN 1\n",
      "34 ED 1\n",
      "35 ▁SAUCE 1\n"
     ]
    }
   ],
   "source": [
    "i = 0\n",
    "for word in align_list:\n",
    "    if len(word) != 0:\n",
    "        for tok in word:\n",
    "            if tok!=\"\":\n",
    "                print(i,tok, 1)\n",
    "            else:\n",
    "                print(i,\"no_tok\", 0)\n",
    "            i += 1\n",
    "    else:\n",
    "        print(\"no_word\", 0)"
   ]
  },
  {
   "cell_type": "code",
   "execution_count": 39,
   "id": "ddb232a8-4f76-4819-b7e0-e7c1bf864bef",
   "metadata": {},
   "outputs": [
    {
     "name": "stdout",
     "output_type": "stream",
     "text": [
      "['▁HE', '▁HOPED', '▁THERE', '▁WOULD', '▁BE', '▁STE', 'W', '▁FOR', '▁DINNER', '▁TURN', '', 'IP', 'S', '▁AND', '▁CAR', 'RO', 'T', '▁POTATOES', '▁AND', '▁FAT', '▁M', 'TON', '▁PIECES', '▁TO', '▁BE', '▁LAD', 'LED', '', '▁OUT', '▁IN', '▁THICK', '▁PEPPER', '▁FAT', 'TEN', 'ED', '▁SAUCE']\n"
     ]
    }
   ],
   "source": [
    "final_toks = []\n",
    "for word in align_list:\n",
    "    for tok in word:\n",
    "        final_toks.append(tok)\n",
    "print(final_toks)"
   ]
  },
  {
   "cell_type": "code",
   "execution_count": 23,
   "id": "57ea6e9b-bea1-479e-ab77-fa33680e699b",
   "metadata": {},
   "outputs": [],
   "source": [
    "def getAlignedScore(ref, hyp, softmax, tokenizer=tokenizer):\n",
    "    wOut = jiwer.process_words(ref, hyp)\n",
    "    wRefList = wOut.references[0]\n",
    "    wHypList = wOut.hypotheses[0]\n",
    "    wAligns = wOut.alignments[0]\n",
    "    tokenizedWRefList = tokenizer.text2tokens(wRefList)\n",
    "    tokenizedWHypList = tokenizer.text2tokens(wHypList)\n",
    "    \n",
    "    align_list = []\n",
    "    for wAlign in wAligns:\n",
    "        if wAlign.type == \"equal\":\n",
    "            align_list = align_list + tokenizedWHypList[wAlign.hyp_start_idx:wAlign.hyp_end_idx]\n",
    "        elif wAlign.type == \"insert\":\n",
    "            align_list.append([])\n",
    "        elif wAlign.type == \"substitute\":\n",
    "            hypWords = tokenizedWHypList[wAlign.hyp_start_idx:wAlign.hyp_end_idx]\n",
    "            refWords = tokenizedWRefList[wAlign.ref_start_idx:wAlign.ref_end_idx]\n",
    "            word_list = []\n",
    "            for hypWord, refWord in zip(hypWords, refWords):\n",
    "                tOut = jiwer.process_words(\" \".join(refWord), \" \".join(hypWord))\n",
    "                tRefList = tOut.references[0]\n",
    "                tHypList = tOut.hypotheses[0]\n",
    "                tAligns = tOut.alignments[0]\n",
    "                for tAlign in tAligns:\n",
    "                    if tAlign.type == \"equal\":\n",
    "                        word_list = word_list + tHypList[tAlign.hyp_start_idx:tAlign.hyp_end_idx]\n",
    "                    elif tAlign.type == \"substitute\":\n",
    "                        word_list = word_list + tRefList[tAlign.ref_start_idx:tAlign.ref_end_idx]\n",
    "                    elif tAlign.type == \"insert\":\n",
    "                        word_list.append(\"\")\n",
    "            align_list = align_list + [word_list]\n",
    "    return align_list"
   ]
  }
 ],
 "metadata": {
  "kernelspec": {
   "display_name": "Python 3 (ipykernel)",
   "language": "python",
   "name": "python3"
  },
  "language_info": {
   "codemirror_mode": {
    "name": "ipython",
    "version": 3
   },
   "file_extension": ".py",
   "mimetype": "text/x-python",
   "name": "python",
   "nbconvert_exporter": "python",
   "pygments_lexer": "ipython3",
   "version": "3.9.18"
  }
 },
 "nbformat": 4,
 "nbformat_minor": 5
}
