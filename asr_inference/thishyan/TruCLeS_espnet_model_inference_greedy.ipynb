{
 "cells": [
  {
   "cell_type": "code",
   "execution_count": 1,
   "id": "ba4e2754-cfc4-4654-b61e-b18075730f23",
   "metadata": {},
   "outputs": [],
   "source": [
    "from espnet2.tasks.asr_TruCLeS import ASRTask\n",
    "from pathlib import Path\n",
    "import yaml\n",
    "import argparse\n",
    "import torch\n",
    "import torchaudio\n",
    "import os\n",
    "from espnet2.text.build_tokenizer import build_tokenizer\n",
    "from espnet2.text.token_id_converter import TokenIDConverter"
   ]
  },
  {
   "cell_type": "code",
   "execution_count": 2,
   "id": "ae94ed32-1d4a-4a95-9679-a5d939503d91",
   "metadata": {},
   "outputs": [],
   "source": [
    "test_dataset = torchaudio.datasets.LIBRISPEECH(\"/home/pb_deployment/Downloads\", url=\"test-clean\", download=True)"
   ]
  },
  {
   "cell_type": "markdown",
   "id": "653e5d6c-bab5-412b-bf68-3a6c8ecfc904",
   "metadata": {},
   "source": [
    "# Loading ASR model for inference"
   ]
  },
  {
   "cell_type": "code",
   "execution_count": 3,
   "id": "2afb6b85-2926-4451-9630-fbeadb6c752e",
   "metadata": {},
   "outputs": [],
   "source": [
    "model_root_dir = \"/home/pb_deployment/espnet/asr_inference/model_files/e_branchformer_librispeech/\"\n",
    "asr_config_path = os.path.join(model_root_dir, \"exp/asr_train_asr_e_branchformer_raw_en_bpe5000_sp/config.yaml\")\n",
    "model_path = os.path.join(model_root_dir, \"exp/asr_train_asr_e_branchformer_raw_en_bpe5000_sp/valid.acc.ave_10best.pth\")\n",
    "bpe_model_path = os.path.join(model_root_dir,\"data/en_token_list/bpe_unigram5000/bpe.model\")"
   ]
  },
  {
   "cell_type": "code",
   "execution_count": 4,
   "id": "56665749-4a50-4e7c-b98c-61a0dc2c15d1",
   "metadata": {},
   "outputs": [],
   "source": [
    "def buildAndLoadASRModel(asr_config, asr_model, device=\"cpu\"):\n",
    "    config_file = Path(asr_config)\n",
    "    with config_file.open(\"r\", encoding=\"utf-8\") as f:\n",
    "        args = yaml.safe_load(f)\n",
    "    \n",
    "    args = argparse.Namespace(**args)\n",
    "    model = ASRTask.build_model(args)\n",
    "    \n",
    "    state_dict = torch.load(asr_model, map_location=device)\n",
    "    \n",
    "    \n",
    "    model.to(device)\n",
    "    use_lora = getattr(args, \"use_lora\", False)\n",
    "    model.load_state_dict(state_dict, strict=not use_lora)\n",
    "    if any([\"frontend.upstream.model\" in k for k in state_dict.keys()]):\n",
    "        if any(\n",
    "            [\n",
    "                \"frontend.upstream.upstream.model\" in k\n",
    "                for k in dict(model.named_parameters())\n",
    "                            ]\n",
    "        ):\n",
    "            state_dict = {\n",
    "                k.replace(\n",
    "                    \"frontend.upstream.model\",\n",
    "                    \"frontend.upstream.upstream.model\",\n",
    "                ): v\n",
    "                for k, v in state_dict.items()\n",
    "            }\n",
    "            model.load_state_dict(state_dict, strict=not use_lora)\n",
    "    return model"
   ]
  },
  {
   "cell_type": "code",
   "execution_count": 5,
   "id": "fdb4bce9-cefa-46bc-bddf-3d300218bd2c",
   "metadata": {},
   "outputs": [],
   "source": [
    "class TruCLeS_Tokenizer:\n",
    "    def __init__(self, asr_config_path, bpe_model_path):\n",
    "        self.asr_config_path = asr_config_path\n",
    "        self.bpe_model_path = bpe_model_path\n",
    "        self.tokenizer = build_tokenizer(\n",
    "            token_type='bpe',\n",
    "            bpemodel=bpe_model_path  \n",
    "        )\n",
    "        with open(self.asr_config_path, 'r') as file:\n",
    "            config_data = yaml.safe_load(file)\n",
    "        self.tokens_list = config_data.get('token_list', [])\n",
    "        self.tokenIDConvertor = TokenIDConverter(token_list = self.tokens_list)\n",
    "\n",
    "        self.ids = dict(zip(self.tokens_list, [i for i in range(len(self.tokens_list))]))\n",
    "\n",
    "    def text2ids(self, text):\n",
    "        tokenized = self.tokenizer.text2tokens(text)\n",
    "        ids = self.tokenIDConvertor.tokens2ids(tokenized)\n",
    "        return ids\n",
    "    \n",
    "    def ids2text(self, ids):\n",
    "        tokenized = self.tokenIDConvertor.ids2tokens(ids)\n",
    "        text = self.tokenizer.tokens2text(tokenized)\n",
    "        return text\n",
    "\n",
    "    def text2tokens(self, text):\n",
    "        return self.tokenizer.text2tokens(text)\n",
    "        \n",
    "    def tokens2text(self, tokens):\n",
    "        return self.tokenizer.tokens2text(tokens)\n",
    "\n",
    "    def tokens2ids(self, tokens):\n",
    "        return self.tokenIDConvertor.tokens2ids(tokens)\n",
    "\n",
    "    def ids2tokens(self, ids):\n",
    "        return self.tokenIDConvertor.ids2tokens(ids)"
   ]
  },
  {
   "cell_type": "code",
   "execution_count": 6,
   "id": "8209e084-0331-4bdc-8367-8b532621e9a2",
   "metadata": {},
   "outputs": [],
   "source": [
    "ASRModel = buildAndLoadASRModel(asr_config_path, model_path, device=\"cuda\")\n",
    "tokenizer = TruCLeS_Tokenizer(asr_config_path, bpe_model_path)"
   ]
  },
  {
   "cell_type": "code",
   "execution_count": 7,
   "id": "98939132-0b3d-4a3a-b3a3-0389b39dcef4",
   "metadata": {},
   "outputs": [
    {
     "name": "stdout",
     "output_type": "stream",
     "text": [
      "HE HOPED THERE WOULD BE STEW FOR DINNER TURNIPS AND CARROTS AND BRUISED POTATOES AND FAT MUTTON PIECES TO BE LADLED OUT IN THICK PEPPERED FLOUR FATTENED SAUCE\n",
      "torch.Size([1, 166960]) tensor([166960]) tensor([[  10, 2668,   53,   60,   26,  996,  242,   20, 1002,  552, 1118,    3,\n",
      "            4,  409,  251,   22,    3,    4,  434,  389, 2117, 4840,    4, 1839,\n",
      "          354,  334,  292, 1852,    6,   26, 1218,  341,   65,    8, 1049, 3779,\n",
      "           13, 2551, 1839,  833,   13, 3753]]) tensor([42])\n"
     ]
    }
   ],
   "source": [
    "speech = test_dataset[0][0]\n",
    "speech_length = speech.new_full([1], dtype=torch.long, fill_value=speech.size(1))\n",
    "\n",
    "text = test_dataset[0][2]\n",
    "print(text)\n",
    "text = torch.tensor(tokenizer.text2ids(text)).unsqueeze(0)\n",
    "text_length = torch.tensor([text.shape[-1]])\n",
    "\n",
    "print(speech.shape, speech_length, text, text_length)"
   ]
  },
  {
   "cell_type": "markdown",
   "id": "db307bc4-8bf6-43f5-9e3f-c816af09b438",
   "metadata": {},
   "source": [
    "```\n",
    "\n",
    "\n",
    "encoder_out, encoder_out_lens = ASRModel.encode(speech: torch.Tensor, speech_lengths: torch.Tensor)\n",
    "\n",
    "ys_hat, decoder_out, softmax_out = ASRModel.decode_TruCLeS(\n",
    "                                        encoder_out: torch.Tensor,\n",
    "                                        encoder_out_lens: torch.Tensor,\n",
    "                                        text: torch.Tensor,\n",
    "                                        text_lengths: torch.Tensor,\n",
    "                                    )\n",
    "```    "
   ]
  },
  {
   "cell_type": "code",
   "execution_count": 8,
   "id": "02b5511f-1832-4b04-9f95-99b01d28c23c",
   "metadata": {},
   "outputs": [],
   "source": [
    "DEVICE = \"cuda\"\n",
    "ASRModel.eval()\n",
    "encoder_out, encoder_out_lens = ASRModel.encode(speech.to(DEVICE), speech_length.to(DEVICE))"
   ]
  },
  {
   "cell_type": "code",
   "execution_count": 9,
   "id": "77939f92-5dd4-4507-b148-a831eae13c8b",
   "metadata": {},
   "outputs": [],
   "source": [
    "hyp, decoder_out= ASRModel.decode_TruCLeS(encoder_out, encoder_out_lens, text.to(DEVICE), text_length.to(DEVICE))"
   ]
  },
  {
   "cell_type": "code",
   "execution_count": 12,
   "id": "a1a6bb75-4ebf-4aed-b965-2f60a63a8725",
   "metadata": {},
   "outputs": [
    {
     "name": "stdout",
     "output_type": "stream",
     "text": [
      "tensor([[  10, 2668,   53,   60,   26,  996,  242,   20, 1002,  552, 1118,    3,\n",
      "            4,  409,  251,   22,    3,    4,  434,  389, 2117, 4840,    4, 1839,\n",
      "          354,  334,  292, 1852,    6,   26, 1218,  341,   65,    8, 1049, 3779,\n",
      "           13, 2551, 1839,  833,   13, 3753, 4999]], device='cuda:0')\n"
     ]
    }
   ],
   "source": [
    "print(hyp)"
   ]
  },
  {
   "cell_type": "code",
   "execution_count": 13,
   "id": "e73688b8-5fcc-4e7b-8660-2e5cd86ea345",
   "metadata": {},
   "outputs": [
    {
     "name": "stdout",
     "output_type": "stream",
     "text": [
      "HE HOPED THERE WOULD BE STEW FOR DINNER TURNIPS AND CARROTS AND BRUISED POTATOES AND FAT MUTTON PIECES TO BE LADLED OUT IN THICK PEPPERED FLOUR FATTENED SAUCE<sos/eos>\n"
     ]
    }
   ],
   "source": [
    "print(tokenizer.ids2text(ys_hat[0]))"
   ]
  },
  {
   "cell_type": "code",
   "execution_count": null,
   "id": "78798273-4841-4aa0-8d2b-1dd9fa8081ca",
   "metadata": {},
   "outputs": [],
   "source": []
  }
 ],
 "metadata": {
  "kernelspec": {
   "display_name": "Python 3 (ipykernel)",
   "language": "python",
   "name": "python3"
  },
  "language_info": {
   "codemirror_mode": {
    "name": "ipython",
    "version": 3
   },
   "file_extension": ".py",
   "mimetype": "text/x-python",
   "name": "python",
   "nbconvert_exporter": "python",
   "pygments_lexer": "ipython3",
   "version": "3.9.18"
  }
 },
 "nbformat": 4,
 "nbformat_minor": 5
}
