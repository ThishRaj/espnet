{
 "cells": [
  {
   "cell_type": "markdown",
   "id": "cd149e97-d630-4938-a4bc-9a8d18ed03cb",
   "metadata": {},
   "source": [
    "# Testing Tokenizer"
   ]
  },
  {
   "cell_type": "code",
   "execution_count": null,
   "id": "60e4c317-2320-4825-b7c3-cfd8d056cc83",
   "metadata": {},
   "outputs": [],
   "source": [
    "from espnet2.text.build_tokenizer import build_tokenizer\n",
    "from espnet2.text.token_id_converter import TokenIDConverter\n",
    "import torchaudio\n",
    "import yaml\n",
    "import os"
   ]
  },
  {
   "cell_type": "code",
   "execution_count": null,
   "id": "afd6980e",
   "metadata": {},
   "outputs": [],
   "source": [
    "model_root_dir = \"/home/pb_deployment/espnet/asr_inference/model_files/e_branchformer_librispeech/\"\n",
    "asr_config_path = os.path.join(model_root_dir, \"exp/asr_train_asr_e_branchformer_raw_en_bpe5000_sp/config.yaml\")\n",
    "bpe_model_path = os.path.join(model_root_dir, 'data/en_token_list/bpe_unigram5000/bpe.model')"
   ]
  },
  {
   "cell_type": "code",
   "execution_count": null,
   "id": "5dad02ba-9a81-4ea4-a34e-52fd8a317512",
   "metadata": {},
   "outputs": [],
   "source": [
    "with open(asr_config_path, 'r') as file:\n",
    "    config_data = yaml.safe_load(file)\n",
    "tokens_list = config_data.get('token_list', [])\n",
    "#print(f\"TOKEN LIST\\n{tokens_list}\")"
   ]
  },
  {
   "cell_type": "code",
   "execution_count": null,
   "id": "cdfd5c90-5e87-4f2c-9c0d-ebb46131a2b8",
   "metadata": {},
   "outputs": [],
   "source": [
    "test_dataset = torchaudio.datasets.LIBRISPEECH(\"/home/pb_deployment/Downloads\", url=\"test-clean\", download=True)"
   ]
  },
  {
   "cell_type": "code",
   "execution_count": null,
   "id": "cc44ba16-0210-4f75-997a-895a4dc1ed74",
   "metadata": {},
   "outputs": [],
   "source": [
    "tokenizer = build_tokenizer(\n",
    "    token_type='bpe',\n",
    "    bpemodel=bpe_model_path  \n",
    ")\n",
    "tokCon = TokenIDConverter(token_list = tokens_list)"
   ]
  },
  {
   "cell_type": "code",
   "execution_count": null,
   "id": "1917c9aa-11c2-4573-bb97-2a22e9242b12",
   "metadata": {},
   "outputs": [],
   "source": [
    "text = test_dataset[0][2]\n",
    "print(f\"Original Text : {text}\")"
   ]
  },
  {
   "cell_type": "code",
   "execution_count": null,
   "id": "eff94f2b-8050-4471-aa89-28564710f913",
   "metadata": {},
   "outputs": [],
   "source": [
    "tokens = tokenizer.text2tokens(text)\n",
    "print(f\"Tokenized text : {tokens}\")"
   ]
  },
  {
   "cell_type": "code",
   "execution_count": null,
   "id": "bf64efcf-ff3f-4db0-bec9-a2c40f93d06a",
   "metadata": {},
   "outputs": [],
   "source": [
    "tokenized_text_ids = tokCon.tokens2ids(tokens)\n",
    "print(f\"Tokenized IDs : {tokenized_text_ids}\")"
   ]
  },
  {
   "cell_type": "code",
   "execution_count": null,
   "id": "4ac1e14e-6beb-4f74-82e4-9183084265e5",
   "metadata": {},
   "outputs": [],
   "source": [
    "reconstructed_tokens = tokCon.ids2tokens(tokenized_text_ids)\n",
    "print(f\"Reconstructed tokens : {reconstructed_tokens}\")"
   ]
  },
  {
   "cell_type": "code",
   "execution_count": null,
   "id": "cc55473a-dbca-4185-9b38-7bd03be5846d",
   "metadata": {},
   "outputs": [],
   "source": [
    "reconstructed_text = tokenizer.tokens2text(reconstructed_tokens)\n",
    "print(f\"Reconstructed text : {reconstructed_text}\")"
   ]
  },
  {
   "cell_type": "code",
   "execution_count": null,
   "id": "54ca3de2-4f41-45a6-8fe1-01f00fdfb320",
   "metadata": {},
   "outputs": [],
   "source": [
    "class TruCLeS_Tokenizer:\n",
    "    def __init__(self, asr_config_path, bpe_model_path):\n",
    "        self.asr_config_path = asr_config_path\n",
    "        self.bpe_model_path = bpe_model_path\n",
    "        self.tokenizer = build_tokenizer(\n",
    "            token_type='bpe',\n",
    "            bpemodel=bpe_model_path  \n",
    "        )\n",
    "        with open(self.asr_config_path, 'r') as file:\n",
    "            config_data = yaml.safe_load(file)\n",
    "        self.tokens_list = config_data.get('token_list', [])\n",
    "        self.tokenIDConvertor = TokenIDConverter(token_list = self.tokens_list)\n",
    "\n",
    "    def text2ids(self, text):\n",
    "        tokenized = self.tokenizer.text2tokens(text)\n",
    "        ids = self.tokenIDConvertor.tokens2ids(tokenized)\n",
    "        return ids\n",
    "    \n",
    "    def ids2text(self, ids):\n",
    "        tokenized = self.tokenIDConvertor.ids2tokens(ids)\n",
    "        text = self.tokenizer.tokens2text(tokenized)\n",
    "        return text"
   ]
  },
  {
   "cell_type": "code",
   "execution_count": null,
   "id": "3a12eaaf-f88b-430e-b6c0-8d3fed3c9d49",
   "metadata": {},
   "outputs": [],
   "source": [
    "tokenizer = TruCLeS_Tokenizer(asr_config_path, bpe_model_path)"
   ]
  },
  {
   "cell_type": "code",
   "execution_count": null,
   "id": "300d63ac-d23a-4453-9bb5-25ddf76e5e12",
   "metadata": {},
   "outputs": [],
   "source": [
    "ids = tokenizer.text2ids(\"HELLO WORLD\")\n",
    "print(ids)"
   ]
  },
  {
   "cell_type": "code",
   "execution_count": null,
   "id": "ca7fb0fa-08fc-409d-b496-477449f38313",
   "metadata": {},
   "outputs": [],
   "source": [
    "text_new = tokenizer.ids2text(ids)\n",
    "print(text_new)"
   ]
  },
  {
   "cell_type": "code",
   "execution_count": null,
   "id": "7de8b912-1d98-4055-8a8a-95827864cdf5",
   "metadata": {},
   "outputs": [],
   "source": []
  },
  {
   "cell_type": "code",
   "execution_count": null,
   "id": "6956760b-960c-498e-8079-ab2eba76700a",
   "metadata": {},
   "outputs": [],
   "source": []
  },
  {
   "cell_type": "code",
   "execution_count": null,
   "id": "dc8e137c-41c1-4242-b098-39d1f6ffd990",
   "metadata": {},
   "outputs": [],
   "source": []
  },
  {
   "cell_type": "code",
   "execution_count": null,
   "id": "bf449feb-ad16-4977-a622-c44f76d83362",
   "metadata": {},
   "outputs": [],
   "source": []
  },
  {
   "cell_type": "code",
   "execution_count": null,
   "id": "edabb197-0a09-43b7-a062-8361df12795c",
   "metadata": {},
   "outputs": [],
   "source": []
  },
  {
   "cell_type": "code",
   "execution_count": null,
   "id": "c8948f52-b27e-418b-be4a-57c744e21887",
   "metadata": {},
   "outputs": [],
   "source": []
  },
  {
   "cell_type": "code",
   "execution_count": null,
   "id": "cb1d5842-b89e-427d-804b-4ac902fcf9b0",
   "metadata": {},
   "outputs": [],
   "source": []
  },
  {
   "cell_type": "code",
   "execution_count": null,
   "id": "fc44996e-72ed-4cda-8cd0-66d645ecf63d",
   "metadata": {},
   "outputs": [],
   "source": []
  },
  {
   "cell_type": "code",
   "execution_count": null,
   "id": "48dbe307-750d-42c1-a379-1d759558bc9e",
   "metadata": {},
   "outputs": [],
   "source": []
  }
 ],
 "metadata": {
  "kernelspec": {
   "display_name": "Python 3 (ipykernel)",
   "language": "python",
   "name": "python3"
  },
  "language_info": {
   "codemirror_mode": {
    "name": "ipython",
    "version": 3
   },
   "file_extension": ".py",
   "mimetype": "text/x-python",
   "name": "python",
   "nbconvert_exporter": "python",
   "pygments_lexer": "ipython3",
   "version": "3.9.18"
  }
 },
 "nbformat": 4,
 "nbformat_minor": 5
}
