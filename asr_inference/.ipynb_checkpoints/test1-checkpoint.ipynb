{
 "cells": [
  {
   "cell_type": "code",
   "execution_count": null,
   "id": "fe629754-0357-4b54-90ce-18a9a4625623",
   "metadata": {},
   "outputs": [],
   "source": [
    "import espnet\n",
    "import torch"
   ]
  },
  {
   "cell_type": "code",
   "execution_count": null,
   "id": "0faeb8f8-fee8-4789-859b-c73e6162f7a3",
   "metadata": {},
   "outputs": [],
   "source": [
    "print(\"Number of cuda devices available: \",torch.cuda.device_count())"
   ]
  }
 ],
 "metadata": {
  "kernelspec": {
   "display_name": "Python 3 (ipykernel)",
   "language": "python",
   "name": "python3"
  },
  "language_info": {
   "codemirror_mode": {
    "name": "ipython",
    "version": 3
   },
   "file_extension": ".py",
   "mimetype": "text/x-python",
   "name": "python",
   "nbconvert_exporter": "python",
   "pygments_lexer": "ipython3",
   "version": "3.8.18"
  }
 },
 "nbformat": 4,
 "nbformat_minor": 5
}
