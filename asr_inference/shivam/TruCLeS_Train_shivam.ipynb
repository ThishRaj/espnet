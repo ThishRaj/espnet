{
 "cells": [
  {
   "cell_type": "code",
   "execution_count": 1,
   "id": "ba4e2754-cfc4-4654-b61e-b18075730f23",
   "metadata": {},
   "outputs": [],
   "source": [
    "from espnet2.tasks.asr_TruCLeS import ASRTask\n",
    "from pathlib import Path\n",
    "import yaml\n",
    "import argparse\n",
    "import torch\n",
    "\n",
    "model_tool = ASRTask"
   ]
  },
  {
   "cell_type": "code",
   "execution_count": 2,
   "id": "64263652-37e1-4125-a7b7-0ff3246ece07",
   "metadata": {},
   "outputs": [
    {
     "name": "stdout",
     "output_type": "stream",
     "text": [
      "11.7\n"
     ]
    }
   ],
   "source": [
    "import torch\n",
    "\n",
    "print(torch.version.cuda)"
   ]
  },
  {
   "cell_type": "code",
   "execution_count": 3,
   "id": "ae94ed32-1d4a-4a95-9679-a5d939503d91",
   "metadata": {},
   "outputs": [],
   "source": [
    "import torchaudio\n",
    "\n",
    "test_dataset = torchaudio.datasets.LIBRISPEECH(\"/home/pb_deployment/Downloads\", url=\"test-clean\", download=True)"
   ]
  },
  {
   "cell_type": "code",
   "execution_count": 4,
   "id": "439a6e10-adb7-4a21-b6d8-15dfdad4d9fc",
   "metadata": {},
   "outputs": [],
   "source": [
    "import os\n",
    "model_root_dir = \"/home/pb_deployment/espnet/asr_inference/model_files/e_branchformer_librispeech/\"\n",
    "asr_config_path = os.path.join(model_root_dir, \"exp/asr_train_asr_e_branchformer_raw_en_bpe5000_sp/config.yaml\")\n",
    "model_path = \"/home/pb_deployment/espnet/asr_inference/model_files/e_branchformer_librispeech/exp/asr_train_asr_e_branchformer_raw_en_bpe5000_sp/valid.acc.ave_10best.pth\"\n",
    "\n",
    "config_file = Path(asr_config_path)\n",
    "with config_file.open(\"r\", encoding=\"utf-8\") as f:\n",
    "    args = yaml.safe_load(f)\n",
    "\n",
    "args = argparse.Namespace(**args)\n",
    "model = model_tool.build_model(args)\n",
    "\n",
    "state_dict = torch.load(model_path, map_location='cuda:0')\n",
    "\n",
    "\n",
    "model.to('cuda:0')\n",
    "use_lora = getattr(args, \"use_lora\", False)\n",
    "model.load_state_dict(state_dict, strict=not use_lora)\n",
    "if any([\"frontend.upstream.model\" in k for k in state_dict.keys()]):\n",
    "    if any(\n",
    "        [\n",
    "            \"frontend.upstream.upstream.model\" in k\n",
    "            for k in dict(model.named_parameters())\n",
    "                        ]\n",
    "    ):\n",
    "        state_dict = {\n",
    "            k.replace(\n",
    "                \"frontend.upstream.model\",\n",
    "                \"frontend.upstream.upstream.model\",\n",
    "            ): v\n",
    "            for k, v in state_dict.items()\n",
    "        }\n",
    "        model.load_state_dict(state_dict, strict=not use_lora)"
   ]
  },
  {
   "cell_type": "code",
   "execution_count": 5,
   "id": "99b917fc-4409-4f3f-a586-e8051b63ef6e",
   "metadata": {},
   "outputs": [],
   "source": [
    "import yaml\n",
    "import os\n",
    "\n",
    "with open(asr_config_path, 'r') as file:\n",
    "    config_data = yaml.safe_load(file)\n",
    "tokens_list = config_data.get('token_list', [])\n",
    "tokens_path = \"tokens.txt\"\n",
    "with open(tokens_path, 'w') as file:\n",
    "    for item in tokens_list:\n",
    "        file.write(f\"{item}\\n\")"
   ]
  },
  {
   "cell_type": "code",
   "execution_count": 6,
   "id": "345256a0-4e64-4ea1-bdaa-3c073b7f1e9a",
   "metadata": {},
   "outputs": [],
   "source": [
    "from espnet2.text.build_tokenizer import build_tokenizer\n",
    "from espnet2.text.token_id_converter import TokenIDConverter\n",
    "\n",
    "\n",
    "def convert_text_to_tokens(text, bpe_model_path, token_list):\n",
    "    tokenizer = build_tokenizer(\n",
    "        token_type='bpe',\n",
    "        bpemodel=bpe_model_path\n",
    "    )\n",
    "    tok_to_id = TokenIDConverter(\n",
    "        token_list=token_list\n",
    "    )\n",
    "    tokens = tokenizer.text2tokens(text)\n",
    "    list_of_toks = [curr[0] for curr in tokens]\n",
    "    text_rep = tok_to_id.tokens2ids(list_of_toks)\n",
    "    return torch.tensor(text_rep)\n",
    "\n",
    "bpe_model_path = '/home/pb_deployment/espnet/asr_inference/model_files/e_branchformer_librispeech/data/en_token_list/bpe_unigram5000/bpe.model'\n",
    "text = convert_text_to_tokens(test_dataset[0][2], bpe_model_path, tokens_path)"
   ]
  },
  {
   "cell_type": "code",
   "execution_count": 7,
   "id": "62018ed0-e661-45a3-9866-4b68a3d0b4bc",
   "metadata": {},
   "outputs": [],
   "source": [
    "speech = test_dataset[0][0].numpy().squeeze()\n",
    "speech = torch.tensor(speech)\n",
    "\n",
    "speech = speech.unsqueeze(0)\n",
    "lengths = speech.new_full([1], dtype=torch.long, fill_value=speech.size(1))\n",
    "\n",
    "text = text\n",
    "text_length = len(text)\n",
    "text = text.unsqueeze(0)\n",
    "text_length = torch.tensor([text_length])"
   ]
  },
  {
   "cell_type": "code",
   "execution_count": 8,
   "id": "35139e0a-ccc2-4a0d-a191-49c849e37893",
   "metadata": {},
   "outputs": [
    {
     "name": "stdout",
     "output_type": "stream",
     "text": [
      "tensor([[0.0003, 0.0003, 0.0004,  ..., 0.0021, 0.0021, 0.0016]])\n",
      "tensor([166960])\n",
      "tensor([[346, 346, 346, 346, 346, 346, 242, 346, 346, 346, 270,   3, 346, 346,\n",
      "          72,  22,   3, 346, 346,  72, 270, 346, 346, 346, 346, 216,  22, 346,\n",
      "         346, 346, 346, 105, 346, 346, 346, 346,  48, 346, 346,  22,  48, 346]])\n",
      "tensor([42])\n"
     ]
    }
   ],
   "source": [
    "print(speech)\n",
    "print(lengths)\n",
    "print(text)\n",
    "print(text_length)"
   ]
  },
  {
   "cell_type": "code",
   "execution_count": 9,
   "id": "7804e599-1b18-45a6-af4b-d63e9eed7bb1",
   "metadata": {},
   "outputs": [
    {
     "name": "stdout",
     "output_type": "stream",
     "text": [
      "torch.Size([1, 43, 5000])\n"
     ]
    }
   ],
   "source": [
    "DEVICE = \"cuda:0\"\n",
    "\n",
    "out = model(\n",
    "    speech = speech.to(DEVICE),\n",
    "    speech_lengths = lengths.to(DEVICE),\n",
    "    text = text.to(DEVICE),\n",
    "    text_lengths = text_length\n",
    ")"
   ]
  },
  {
   "cell_type": "code",
   "execution_count": 10,
   "id": "d6faf496-e7bf-4ea5-b839-0597ab74a033",
   "metadata": {},
   "outputs": [
    {
     "name": "stdout",
     "output_type": "stream",
     "text": [
      "torch.Size([1, 43, 512])\n",
      "torch.Size([1, 43, 5000])\n",
      "torch.Size([1, 260, 512])\n"
     ]
    }
   ],
   "source": [
    "print(model.decoder.train_decoder.shape)\n",
    "print(model.decoder.train_softmax.shape)\n",
    "print(model.encoder.train_attention.shape)"
   ]
  },
  {
   "cell_type": "code",
   "execution_count": 11,
   "id": "d30719d2-ade9-487d-867b-5897da4eeccd",
   "metadata": {},
   "outputs": [
    {
     "data": {
      "text/plain": [
       "tensor([[[  0.6642,   0.8225,   3.0309,  ...,   2.8935,   1.3534,  -2.4097],\n",
       "         [  0.1253,  18.2364, -11.7023,  ...,   0.7288,   8.2506,   4.2057],\n",
       "         [ -1.8094,  16.9949, -11.4810,  ...,  20.3952,   8.1938,  10.0478],\n",
       "         ...,\n",
       "         [ -1.6447,  -9.3096,   0.2799,  ...,  -0.5513,   6.1136,   1.5820],\n",
       "         [ -3.6652,  -2.5033,  -2.4572,  ...,  -3.2551,  -3.9572,  -3.1280],\n",
       "         [ -5.4513,  14.5782,   0.0000,  ...,  19.8965,  -0.6447,   6.1819]]],\n",
       "       device='cuda:0', grad_fn=<AddBackward0>)"
      ]
     },
     "execution_count": 11,
     "metadata": {},
     "output_type": "execute_result"
    }
   ],
   "source": [
    "model.decoder.train_decoder"
   ]
  },
  {
   "cell_type": "code",
   "execution_count": 12,
   "id": "a8acc31c",
   "metadata": {},
   "outputs": [],
   "source": [
    "# Using greedy decoding to determine the word piece.\n",
    "\n",
    "\n",
    "def compute_TruCLeS():\n",
    "    text = convert_text_to_tokens(test_dataset[0][2], bpe_model_path, tokens_path)\n",
    "    print(text)\n",
    "    \n",
    "    return"
   ]
  },
  {
   "cell_type": "code",
   "execution_count": 14,
   "id": "5252676f",
   "metadata": {},
   "outputs": [
    {
     "name": "stdout",
     "output_type": "stream",
     "text": [
      "tensor([346, 346, 346, 346, 346, 346, 242, 346, 346, 346, 270,   3, 346, 346,\n",
      "         72,  22,   3, 346, 346,  72, 270, 346, 346, 346, 346, 216,  22, 346,\n",
      "        346, 346, 346, 105, 346, 346, 346, 346,  48, 346, 346,  22,  48, 346])\n"
     ]
    }
   ],
   "source": [
    "compute_TruCLeS()"
   ]
  },
  {
   "cell_type": "code",
   "execution_count": null,
   "id": "afd6980e",
   "metadata": {},
   "outputs": [],
   "source": []
  },
  {
   "cell_type": "code",
   "execution_count": null,
   "id": "21fcc474",
   "metadata": {},
   "outputs": [],
   "source": []
  },
  {
   "cell_type": "code",
   "execution_count": null,
   "id": "db82a6ca",
   "metadata": {},
   "outputs": [],
   "source": []
  },
  {
   "cell_type": "code",
   "execution_count": null,
   "id": "63c1537f",
   "metadata": {},
   "outputs": [],
   "source": []
  },
  {
   "cell_type": "code",
   "execution_count": null,
   "id": "adcd4634",
   "metadata": {},
   "outputs": [],
   "source": []
  },
  {
   "cell_type": "code",
   "execution_count": null,
   "id": "f9dc792f",
   "metadata": {},
   "outputs": [],
   "source": []
  },
  {
   "cell_type": "code",
   "execution_count": null,
   "id": "1efcfa27",
   "metadata": {},
   "outputs": [],
   "source": []
  },
  {
   "cell_type": "code",
   "execution_count": null,
   "id": "80ae0ecf",
   "metadata": {},
   "outputs": [],
   "source": []
  },
  {
   "cell_type": "code",
   "execution_count": null,
   "id": "02d58e50",
   "metadata": {},
   "outputs": [],
   "source": []
  },
  {
   "cell_type": "code",
   "execution_count": null,
   "id": "5bd2f869",
   "metadata": {},
   "outputs": [],
   "source": []
  },
  {
   "cell_type": "code",
   "execution_count": null,
   "id": "ded1aff3",
   "metadata": {},
   "outputs": [],
   "source": []
  },
  {
   "cell_type": "code",
   "execution_count": null,
   "id": "4674ff26-73a3-43ae-ad77-e81dba975a22",
   "metadata": {},
   "outputs": [],
   "source": [
    "from torch\n",
    "\n",
    "class CEM_Model(torch.nn.Module)\n",
    "    "
   ]
  }
 ],
 "metadata": {
  "kernelspec": {
   "display_name": "Python 3 (ipykernel)",
   "language": "python",
   "name": "python3"
  },
  "language_info": {
   "codemirror_mode": {
    "name": "ipython",
    "version": 3
   },
   "file_extension": ".py",
   "mimetype": "text/x-python",
   "name": "python",
   "nbconvert_exporter": "python",
   "pygments_lexer": "ipython3",
   "version": "3.9.18"
  }
 },
 "nbformat": 4,
 "nbformat_minor": 5
}
