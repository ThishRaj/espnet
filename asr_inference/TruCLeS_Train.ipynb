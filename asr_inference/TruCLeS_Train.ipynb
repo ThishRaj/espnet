{
 "cells": [
  {
   "cell_type": "code",
   "execution_count": 1,
   "id": "ba4e2754-cfc4-4654-b61e-b18075730f23",
   "metadata": {},
   "outputs": [],
   "source": [
    "from espnet2.tasks.asr_TruCLeS import ASRTask\n",
    "from pathlib import Path\n",
    "import yaml\n",
    "import argparse\n",
    "import torch\n",
    "\n",
    "model_tool = ASRTask"
   ]
  },
  {
   "cell_type": "code",
   "execution_count": 2,
   "id": "ae94ed32-1d4a-4a95-9679-a5d939503d91",
   "metadata": {},
   "outputs": [],
   "source": [
    "import torchaudio\n",
    "\n",
    "test_dataset = torchaudio.datasets.LIBRISPEECH(\"./\", url=\"test-clean\", download=True)"
   ]
  },
  {
   "cell_type": "code",
   "execution_count": 3,
   "id": "439a6e10-adb7-4a21-b6d8-15dfdad4d9fc",
   "metadata": {},
   "outputs": [],
   "source": [
    "path_str = '/home/royshivam/anaconda3/envs/espnet/lib/python3.8/site-packages/espnet_model_zoo/models--pyf98--librispeech_100_e_branchformer/snapshots/e331ba7b520392b7e290b9c73bf1453967a440d2/exp/asr_train_asr_e_branchformer_size256_mlp1024_linear1024_e12_mactrue_edrop0.0_ddrop0.0_raw_en_bpe5000_sp/config.yaml'\n",
    "model_path = '/home/royshivam/anaconda3/envs/espnet/lib/python3.8/site-packages/espnet_model_zoo/models--pyf98--librispeech_100_e_branchformer/snapshots/e331ba7b520392b7e290b9c73bf1453967a440d2/exp/asr_train_asr_e_branchformer_size256_mlp1024_linear1024_e12_mactrue_edrop0.0_ddrop0.0_raw_en_bpe5000_sp/valid.acc.ave_10best.pth'\n",
    "\n",
    "config_file = Path(path_str)\n",
    "with config_file.open(\"r\", encoding=\"utf-8\") as f:\n",
    "    args = yaml.safe_load(f)\n",
    "\n",
    "args = argparse.Namespace(**args)\n",
    "model = model_tool.build_model(args)\n",
    "\n",
    "state_dict = torch.load(model_path, map_location='cpu')\n",
    "\n",
    "\n",
    "model.to('cpu')\n",
    "use_lora = getattr(args, \"use_lora\", False)\n",
    "model.load_state_dict(state_dict, strict=not use_lora)\n",
    "if any([\"frontend.upstream.model\" in k for k in state_dict.keys()]):\n",
    "    if any(\n",
    "        [\n",
    "            \"frontend.upstream.upstream.model\" in k\n",
    "            for k in dict(model.named_parameters())\n",
    "                        ]\n",
    "    ):\n",
    "        state_dict = {\n",
    "            k.replace(\n",
    "                \"frontend.upstream.model\",\n",
    "                \"frontend.upstream.upstream.model\",\n",
    "            ): v\n",
    "            for k, v in state_dict.items()\n",
    "        }\n",
    "        model.load_state_dict(state_dict, strict=not use_lora)"
   ]
  },
  {
   "cell_type": "code",
   "execution_count": 4,
   "id": "99b917fc-4409-4f3f-a586-e8051b63ef6e",
   "metadata": {},
   "outputs": [],
   "source": [
    "import yaml\n",
    "import os\n",
    "\n",
    "config_model_path = '/home/royshivam/anaconda3/envs/espnet/lib/python3.8/site-packages/espnet_model_zoo/models--pyf98--librispeech_100_e_branchformer/snapshots/e331ba7b520392b7e290b9c73bf1453967a440d2/exp/asr_train_asr_e_branchformer_size256_mlp1024_linear1024_e12_mactrue_edrop0.0_ddrop0.0_raw_en_bpe5000_sp/config.yaml'\n",
    "\n",
    "with open(config_model_path, 'r') as file:\n",
    "    config_data = yaml.safe_load(file)\n",
    "tokens_list = config_data.get('token_list', [])\n",
    "tokens_path = \"tokens.txt\"\n",
    "with open(tokens_path, 'w') as file:\n",
    "    for item in tokens_list:\n",
    "        file.write(f\"{item}\\n\")"
   ]
  },
  {
   "cell_type": "code",
   "execution_count": 5,
   "id": "345256a0-4e64-4ea1-bdaa-3c073b7f1e9a",
   "metadata": {},
   "outputs": [],
   "source": [
    "from espnet2.text.build_tokenizer import build_tokenizer\n",
    "from espnet2.text.token_id_converter import TokenIDConverter\n",
    "\n",
    "\n",
    "def convert_text_to_tokens(text, bpe_model_path, token_list):\n",
    "    tokenizer = build_tokenizer(\n",
    "        token_type='bpe',\n",
    "        bpemodel=bpe_model_path\n",
    "    )\n",
    "    tok_to_id = TokenIDConverter(\n",
    "        token_list=token_list\n",
    "    )\n",
    "    tokens = tokenizer.text2tokens(text)\n",
    "    list_of_toks = [curr[0] for curr in tokens]\n",
    "    text_rep = tok_to_id.tokens2ids(list_of_toks)\n",
    "    return torch.tensor(text_rep)\n",
    "\n",
    "bpe_model_path = '/home/royshivam/anaconda3/envs/espnet/lib/python3.8/site-packages/espnet_model_zoo/models--pyf98--librispeech_100_e_branchformer/snapshots/e331ba7b520392b7e290b9c73bf1453967a440d2/data/en_token_list/bpe_unigram5000/bpe.model'\n",
    "text = convert_text_to_tokens(test_dataset[0][2], bpe_model_path, tokens_path)"
   ]
  },
  {
   "cell_type": "code",
   "execution_count": 6,
   "id": "62018ed0-e661-45a3-9866-4b68a3d0b4bc",
   "metadata": {},
   "outputs": [],
   "source": [
    "speech = test_dataset[0][0].numpy().squeeze()\n",
    "speech = torch.tensor(speech)\n",
    "\n",
    "speech = speech.unsqueeze(0)\n",
    "lengths = speech.new_full([1], dtype=torch.long, fill_value=speech.size(1))\n",
    "\n",
    "text = text\n",
    "text_length = len(text)\n",
    "text = text.unsqueeze(0)\n",
    "text_length = torch.tensor([text_length])"
   ]
  },
  {
   "cell_type": "code",
   "execution_count": 7,
   "id": "7804e599-1b18-45a6-af4b-d63e9eed7bb1",
   "metadata": {},
   "outputs": [],
   "source": [
    "out = model(\n",
    "    speech = speech,\n",
    "    speech_lengths = lengths,\n",
    "    text = text,\n",
    "    text_lengths = text_length\n",
    ")"
   ]
  },
  {
   "cell_type": "code",
   "execution_count": 8,
   "id": "d6faf496-e7bf-4ea5-b839-0597ab74a033",
   "metadata": {},
   "outputs": [
    {
     "name": "stdout",
     "output_type": "stream",
     "text": [
      "torch.Size([0, 47, 256])\n",
      "torch.Size([0, 47, 5000])\n",
      "torch.Size([1, 260, 256])\n"
     ]
    }
   ],
   "source": [
    "print(model.decoder.train_decoder.shape)\n",
    "print(model.decoder.train_softmax.shape)\n",
    "print(model.encoder.train_attention.shape)"
   ]
  },
  {
   "cell_type": "code",
   "execution_count": null,
   "id": "ec5cca51-fe55-4e35-9d2d-0fdf2a9c6d55",
   "metadata": {},
   "outputs": [],
   "source": [
    "tokens"
   ]
  },
  {
   "cell_type": "code",
   "execution_count": null,
   "id": "26a9d38a-0b64-44aa-ba95-cf3dba272db8",
   "metadata": {},
   "outputs": [],
   "source": [
    "test_dataset[0]"
   ]
  },
  {
   "cell_type": "code",
   "execution_count": null,
   "id": "4674ff26-73a3-43ae-ad77-e81dba975a22",
   "metadata": {},
   "outputs": [],
   "source": [
    "from torch\n",
    "\n",
    "class CEM_Model("
   ]
  }
 ],
 "metadata": {
  "kernelspec": {
   "display_name": "Python 3 (ipykernel)",
   "language": "python",
   "name": "python3"
  },
  "language_info": {
   "codemirror_mode": {
    "name": "ipython",
    "version": 3
   },
   "file_extension": ".py",
   "mimetype": "text/x-python",
   "name": "python",
   "nbconvert_exporter": "python",
   "pygments_lexer": "ipython3",
   "version": "3.8.18"
  }
 },
 "nbformat": 4,
 "nbformat_minor": 5
}
